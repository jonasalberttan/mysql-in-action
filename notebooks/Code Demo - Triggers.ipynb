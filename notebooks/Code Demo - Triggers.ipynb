{
 "cells": [
  {
   "cell_type": "markdown",
   "metadata": {},
   "source": [
    "<h1 id=\"TRIGGERS\">TRIGGERS</h1>\n",
    "<p><span style=\"font-size: 12pt;\">Create an after insert trigger in the <strong>e_inbox</strong> table and name it&nbsp;<strong>tr_after_insert_inbox_process_cmd</strong>.</span></p>\n",
    "<p><span style=\"font-size: 12pt;\">When a new row is inserted on this table, it will process the incoming message.</span></p>"
   ]
  },
  {
   "cell_type": "code",
   "execution_count": null,
   "metadata": {},
   "outputs": [],
   "source": [
    "CREATE TRIGGER tr_after_insert_inbox_process_cmd \n",
    "AFTER INSERT ON e_inbox\n",
    "FOR EACH ROW \n",
    "BEGIN \n",
    "\tdeclare cellno varchar(11) default NEW.cellno;\n",
    "\tdeclare message text default NEW.message;\n",
    "\tdeclare cmdname varchar(20) default (split(message,' ',1));\n",
    "\n",
    "\tcall sp_validate_incoming_msg(cellno, message, @is_valid);\n",
    "\tif (@is_valid=1) then\n",
    "\t\tif (cmdname='REG') then\n",
    "\t\t\tcall sp_cmd_reg(NEW.id, cellno, message, @is_valid);\n",
    "\t\telseif (cmdname='TRANSFER') then\n",
    "\t\t\tcall sp_cmd_transfer(NEW.id, cellno, message, @is_valid);\n",
    "\t\tend if;\n",
    "\tend if;\n",
    "END;\n"
   ]
  }
 ],
 "metadata": {
  "kernelspec": {
   "display_name": "Mysql",
   "language": "mysql",
   "name": "jupyter-mysql-kernel"
  },
  "language_info": {
   "file_extension": ".sql",
   "mimetype": "text/x-sh",
   "name": "mysql"
  }
 },
 "nbformat": 4,
 "nbformat_minor": 4
}
