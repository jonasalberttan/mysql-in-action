{
 "cells": [
  {
   "cell_type": "markdown",
   "metadata": {},
   "source": [
    "<h2>TABLE STRUCTURES</h2>"
   ]
  },
  {
   "cell_type": "markdown",
   "metadata": {},
   "source": [
    "<p><span style=\"font-size: 12pt;\"><strong>1. e_commands</strong> - This are the list of valid commands in accessing the application.</span></p>"
   ]
  },
  {
   "cell_type": "code",
   "execution_count": null,
   "metadata": {},
   "outputs": [],
   "source": [
    "CREATE TABLE e_commands (\n",
    "  id char(36) NOT NULL,\n",
    "  name varchar(100) DEFAULT NULL,\n",
    "  description varchar(100) DEFAULT NULL,\n",
    "  inactive tinyint NOT NULL DEFAULT '0'\n",
    ") ENGINE=InnoDB DEFAULT CHARSET=utf8 COLLATE=utf8_unicode_ci;"
   ]
  },
  {
   "cell_type": "markdown",
   "metadata": {},
   "source": [
    "<p><span style=\"font-size: 12pt;\">execute default data....</span></p>"
   ]
  },
  {
   "cell_type": "code",
   "execution_count": null,
   "metadata": {},
   "outputs": [],
   "source": [
    "insert into e_commands (id, name, description, inactive)\n",
    "select '5f94fe3a-6198-11eb-a2f4-071f884ff2c1', 'reg', 'register a subscriber', 0 union all\n",
    "select '5f94fe3a-6198-11eb-a2f4-071f884ff2c2', 'transfer', 'transfer a fund to a subscriber', 0 union all \n",
    "select '5f94fe3a-6198-11eb-a2f4-071f884ff2c3', 'bal', 'balance inquiery', 0 union all \n",
    "select '5f94fe3a-6198-11eb-a2f4-071f884ff2c4', 'buy', 'buy a product', 0 union all\n",
    "select '5f94fe3a-6198-11eb-a2f4-071f884ff2c5', 'refund', 'refund an amount', 0 "
   ]
  },
  {
   "cell_type": "markdown",
   "metadata": {},
   "source": [
    "<p><span style=\"font-size: 12pt;\"><strong>2. e_products</strong> - It contains the item for purchase.&nbsp;</span><span style=\"font-family: Menlo; font-size: 12px;\">beginnning</span><span class=\"Apple-converted-space\" style=\"font-family: Menlo; font-size: 12px;\">&nbsp;</span></p>"
   ]
  },
  {
   "cell_type": "code",
   "execution_count": null,
   "metadata": {},
   "outputs": [],
   "source": [
    "CREATE TABLE e_products (\n",
    "  id char(36) NOT NULL,\n",
    "  name varchar(100) DEFAULT NULL,\n",
    "  description varchar(100) DEFAULT NULL,\n",
    "  inactive tinyint NOT NULL DEFAULT '0',\n",
    "  amount decimal(15,2) NOT NULL DEFAULT '0.00'\n",
    ") ENGINE=InnoDB DEFAULT CHARSET=utf8 COLLATE=utf8_unicode_ci;"
   ]
  },
  {
   "cell_type": "markdown",
   "metadata": {},
   "source": [
    "<p><span style=\"font-size: 12pt;\">Execute default data...</span></p>"
   ]
  },
  {
   "cell_type": "code",
   "execution_count": null,
   "metadata": {},
   "outputs": [],
   "source": [
    "insert into e_products (id, name, description, inactive, amount)\n",
    "select 'af822dcc-6199-11eb-a2f4-071f884ff2c1', 'sm30', 'smart regular P30', 0, 27 union all\n",
    "select 'af822dcc-6199-11eb-a2f4-071f884ff2c1', 'sm60', 'smart regular P60', 0, 54 union all\n",
    "select 'af822dcc-6199-11eb-a2f4-071f884ff2c1', 'sm100', 'smart regular P100', 0, 90 "
   ]
  },
  {
   "cell_type": "markdown",
   "metadata": {},
   "source": [
    "<p><span style=\"font-size: 12pt;\"><strong>3. e_subscribers</strong> - It contains the list of subscribers.</span></p>"
   ]
  },
  {
   "cell_type": "code",
   "execution_count": null,
   "metadata": {},
   "outputs": [],
   "source": [
    "CREATE TABLE e_subscribers (\n",
    "  id char(36) NOT NULL,\n",
    "  upline_id char(36) NOT NULL DEFAULT '0',\n",
    "  cellno varchar(11) NOT NULL,\n",
    "  last_name varchar(100) NOT NULL,\n",
    "  first_name varchar(100) NOT NULL,\n",
    "  mi varchar(1) NOT NULL,\n",
    "  inactive tinyint NOT NULL DEFAULT '0',\n",
    "  blocked tinyint NOT NULL DEFAULT '0',\n",
    "  created_at TIMESTAMP DEFAULT CURRENT_TIMESTAMP\n",
    ") ENGINE=InnoDB DEFAULT CHARSET=utf8 COLLATE=utf8_unicode_ci;"
   ]
  },
  {
   "cell_type": "markdown",
   "metadata": {},
   "source": [
    "<p><span style=\"font-size: 12pt;\">Execute default data...</span></p>"
   ]
  },
  {
   "cell_type": "code",
   "execution_count": null,
   "metadata": {},
   "outputs": [],
   "source": [
    "insert into e_subscribers (id, upline_id, cellno, last_name, first_name, mi, inactive, blocked)\n",
    "select '441e7d8c-619f-11eb-a2f4-071f884ff2c1', '', '09222853161', 'dela Cruz', 'Juan', 'T', 0, 0 union all\n",
    "select '441e7d8c-619f-11eb-a2f4-071f884ff2c2', '441e7d8c-619f-11eb-a2f4-071f884ff2c1', '09212753188', 'dela Cruz', 'Juana', 'T', 0, 0 union all\n",
    "select '441e7d8c-619f-11eb-a2f4-071f884ff2c3', '441e7d8c-619f-11eb-a2f4-071f884ff2c1', '09201632077', 'Santiago', 'Angelica', 'C', 0, 0 \n"
   ]
  },
  {
   "cell_type": "markdown",
   "metadata": {},
   "source": [
    "<p><span style=\"font-size: 12pt;\"><strong>4. e_inbox</strong> - All incoming messages are stored here.</span></p>"
   ]
  },
  {
   "cell_type": "code",
   "execution_count": null,
   "metadata": {},
   "outputs": [],
   "source": [
    "CREATE TABLE e_inbox (\n",
    "  id char(36) NOT NULL,\n",
    "  cellno varchar(11) NOT NULL,\n",
    "  message text NOT NULL,\n",
    "  created_at TIMESTAMP DEFAULT CURRENT_TIMESTAMP\n",
    ") ENGINE=InnoDB DEFAULT CHARSET=utf8 COLLATE=utf8_unicode_ci;"
   ]
  },
  {
   "cell_type": "markdown",
   "metadata": {},
   "source": [
    "<p><span style=\"font-size: 12pt;\"><strong>5. e_outbox</strong> - All messages to be sent are stored here.</span></p>"
   ]
  },
  {
   "cell_type": "code",
   "execution_count": null,
   "metadata": {},
   "outputs": [],
   "source": [
    "CREATE TABLE e_outbox (\n",
    "  id char(36) NOT NULL,\n",
    "  e_inbox_id char(36) NULL,\n",
    "  cellno varchar(11) NOT NULL,\n",
    "  message text NOT NULL,\n",
    "  created_at TIMESTAMP DEFAULT CURRENT_TIMESTAMP\n",
    ") ENGINE=InnoDB DEFAULT CHARSET=utf8 COLLATE=utf8_unicode_ci;"
   ]
  },
  {
   "cell_type": "markdown",
   "metadata": {},
   "source": [
    "<p><span style=\"font-size: 12pt;\"><strong>6. e_sent</strong> - All messages sent are stored here coming from e_outbox</span></p>"
   ]
  },
  {
   "cell_type": "code",
   "execution_count": null,
   "metadata": {},
   "outputs": [],
   "source": [
    "CREATE TABLE e_sent (\n",
    "  id char(36) NOT NULL,\n",
    "  e_outbox_id char(36) NULL,\n",
    "  cellno varchar(11) NOT NULL,\n",
    "  message text NOT NULL,\n",
    "  sent TIMESTAMP DEFAULT CURRENT_TIMESTAMP\n",
    ") ENGINE=InnoDB DEFAULT CHARSET=utf8 COLLATE=utf8_unicode_ci;\n"
   ]
  },
  {
   "cell_type": "markdown",
   "metadata": {},
   "source": [
    "<p><span style=\"font-size: 12pt;\"><strong>7. e_ledger</strong> - Contains the detailed transaction of the subscriber.</span></p>"
   ]
  },
  {
   "cell_type": "code",
   "execution_count": null,
   "metadata": {},
   "outputs": [],
   "source": [
    "CREATE TABLE e_ledger (\n",
    "  id char(36) NOT NULL,\n",
    "  e_subscribers_id char(36) NULL,\n",
    "  e_inbox_id char(36) NULL,\n",
    "  e_command_id char(36) NULL,\n",
    "  amount_beginning decimal(15,2) NOT NULL DEFAULT '0.00',\n",
    "  amount_actual decimal(15,2) NOT NULL DEFAULT '0.00',\n",
    "  document_date TIMESTAMP NOT NULL,\n",
    "  created_at TIMESTAMP DEFAULT CURRENT_TIMESTAMP\n",
    ") ENGINE=InnoDB DEFAULT CHARSET=utf8 COLLATE=utf8_unicode_ci;"
   ]
  },
  {
   "cell_type": "markdown",
   "metadata": {},
   "source": [
    "<p><span style=\"font-size: 12pt;\">Execute default data</span></p>"
   ]
  },
  {
   "cell_type": "code",
   "execution_count": null,
   "metadata": {},
   "outputs": [],
   "source": [
    "insert into e_ledger (id, e_subscribers_id, e_inbox_id, e_command_id, amount_beginning, amount_actual, document_date)\n",
    "select '2d6bce0a-61a4-11eb-a2f4-071f884ff2ce', '441e7d8c-619f-11eb-a2f4-071f884ff2c1', null, '5f94fe3a-6198-11eb-a2f4-071f884ff2c2',0,1000000, now()\n"
   ]
  }
 ],
 "metadata": {
  "kernelspec": {
   "display_name": "Mysql",
   "language": "mysql",
   "name": "jupyter-mysql-kernel"
  },
  "language_info": {
   "file_extension": ".sql",
   "mimetype": "text/x-sh",
   "name": "mysql"
  }
 },
 "nbformat": 4,
 "nbformat_minor": 4
}
