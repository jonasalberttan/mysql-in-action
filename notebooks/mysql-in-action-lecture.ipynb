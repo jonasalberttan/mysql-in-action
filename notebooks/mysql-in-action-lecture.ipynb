{
 "cells": [
  {
   "cell_type": "markdown",
   "metadata": {},
   "source": [
    "<h1><span style=\"text-decoration: underline;\">Lectures</span></h1>"
   ]
  },
  {
   "cell_type": "markdown",
   "metadata": {},
   "source": [
    "<h3 id=\"1.-Database\">1. Create Database</h3>\n",
    "<p>Syntax:</p>\n",
    "<p><span class=\"hljs-keyword\" style=\"color: #333333; font-weight: bold; font-family: monospace , monospace; font-size: 14.4px; white-space: pre;\">CREATE</span> <span class=\"hljs-keyword\" style=\"color: #333333; font-weight: bold; font-family: monospace , monospace; font-size: 14.4px; white-space: pre;\">DATABASE</span><span style=\"color: #333333; font-family: monospace , monospace; font-size: 14.4px; white-space: pre; background-color: #f8f8f8;\"> [</span><span class=\"hljs-keyword\" style=\"color: #333333; font-weight: bold; font-family: monospace , monospace; font-size: 14.4px; white-space: pre;\">IF</span> <span class=\"hljs-keyword\" style=\"color: #333333; font-weight: bold; font-family: monospace , monospace; font-size: 14.4px; white-space: pre;\">NOT</span> <span class=\"hljs-keyword\" style=\"color: #333333; font-weight: bold; font-family: monospace , monospace; font-size: 14.4px; white-space: pre;\">EXISTS</span><span style=\"color: #333333; font-family: monospace , monospace; font-size: 14.4px; white-space: pre; background-color: #f8f8f8;\">] database_name [<strong>CHARACTER SET</strong></span><span style=\"color: #333333; font-family: monospace , monospace; font-size: 14.4px; white-space: pre; background-color: #f8f8f8;\"> charset_name] [</span><span class=\"hljs-keyword\" style=\"color: #333333; font-weight: bold; font-family: monospace , monospace; font-size: 14.4px; white-space: pre;\">COLLATE</span><span style=\"color: #333333; font-family: monospace , monospace; font-size: 14.4px; white-space: pre; background-color: #f8f8f8;\"> collation_name]</span></p>"
   ]
  },
  {
   "cell_type": "markdown",
   "metadata": {},
   "source": [
    "<h4 id=\"CHARACTER-SET\">CHARACTER SET</h4>\n",
    "<p>A MySQL character set is a set of characters that are legal in a string. For example, we have an alphabet with letters from a to z.We assign each letter a number, for example, a = 1, b = 2 etc. The letter a is a symbol, and the number 1 that associates with the letter a is the encoding. The combination of all letters from a to z and their corresponding encodings is a character set. Let's execute this line of code to show the available character set.</p>"
   ]
  },
  {
   "cell_type": "code",
   "execution_count": null,
   "metadata": {},
   "outputs": [],
   "source": [
    "show character set;"
   ]
  },
  {
   "cell_type": "markdown",
   "metadata": {},
   "source": [
    "<h4>COLLATE</h4>\n",
    "<p>A MySQL collation is a set of rules used to compare characters in a particular character set. Each character set in MySQL can have more than one collation, and has, at least, one default collation. Two character sets cannot have the same collation.</p>"
   ]
  },
  {
   "cell_type": "code",
   "execution_count": null,
   "metadata": {},
   "outputs": [],
   "source": []
  }
 ],
 "metadata": {
  "kernelspec": {
   "display_name": "Mysql",
   "language": "mysql",
   "name": "jupyter-mysql-kernel"
  },
  "language_info": {
   "file_extension": ".sql",
   "mimetype": "text/x-sh",
   "name": "mysql"
  }
 },
 "nbformat": 4,
 "nbformat_minor": 4
}
