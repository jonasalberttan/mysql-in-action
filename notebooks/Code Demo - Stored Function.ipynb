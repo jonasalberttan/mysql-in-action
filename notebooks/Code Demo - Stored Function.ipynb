{
 "cells": [
  {
   "cell_type": "markdown",
   "metadata": {},
   "source": [
    "<h1>STORED FUNCTION</h1>"
   ]
  },
  {
   "cell_type": "markdown",
   "metadata": {},
   "source": [
    "<h3 id=\"Create-sf_count_retailers\">Create sf_count_retailers</h3>\n",
    "<p><span style=\"font-size: 12pt;\">This will count how many retailers this dealer is.</span></p>"
   ]
  },
  {
   "cell_type": "code",
   "execution_count": null,
   "metadata": {},
   "outputs": [],
   "source": [
    "CREATE FUNCTION sf_count_retailers(\n",
    "\tcellno varchar(11)\n",
    ") \n",
    "RETURNS int\n",
    "DETERMINISTIC\n",
    "BEGIN\n",
    "\tdeclare ctr int; \n",
    "\tset ctr= (\n",
    "\t\tselect \tcount(*) \n",
    "\t\tfrom \te_subscribers \n",
    "\t\twhere \tupline_id in (select a.id from e_subscribers a where a.cellno=cellno) \n",
    "\t\t\tand inactive=0 \n",
    "\t\t\tand blocked=0\t\n",
    "\t);\n",
    "\treturn ctr;\n",
    "END\n"
   ]
  },
  {
   "cell_type": "markdown",
   "metadata": {},
   "source": [
    "<p><span style=\"font-size: 12pt;\">Let's put it in action...</span></p>"
   ]
  },
  {
   "cell_type": "code",
   "execution_count": null,
   "metadata": {},
   "outputs": [],
   "source": [
    "select sf_count_retailers(cellno) as retailers, a.* from e_subscribers a"
   ]
  },
  {
   "cell_type": "markdown",
   "metadata": {},
   "source": [
    "<h3>Create sf_get_current_balance</h3>\n",
    "<p>This will get the current balance of the subscriber.</p>"
   ]
  },
  {
   "cell_type": "code",
   "execution_count": null,
   "metadata": {},
   "outputs": [],
   "source": [
    "CREATE FUNCTION sf_get_current_balance(\n",
    "\tcellno varchar(11)\n",
    ") \n",
    "RETURNS int\n",
    "DETERMINISTIC\n",
    "BEGIN\n",
    "\tdeclare balance  \t\tdecimal(15,2); \n",
    "\tdeclare subscribers_id\tchar(36);\n",
    "\tset balance=0;\n",
    "\tset subscribers_id = (select a.id from e_subscribers a where a.cellno=cellno);\n",
    "\tset balance= (\n",
    "\t\tselect\t\ta.amount_beginning + a.amount_actual\n",
    "\t\tfrom \t\te_ledger a\n",
    "\t\twhere       a.e_subscribers_id=subscribers_id\n",
    "\t\torder by    created_at desc\n",
    "\t\tlimit \t\t1\n",
    "\t);\n",
    "\treturn ifnull(balance,0);\n",
    "END"
   ]
  },
  {
   "cell_type": "markdown",
   "metadata": {},
   "source": [
    "<p><span style=\"font-size: 12pt;\">Let's put it in action...</span></p>"
   ]
  },
  {
   "cell_type": "code",
   "execution_count": null,
   "metadata": {},
   "outputs": [],
   "source": [
    "select sf_get_current_balance(cellno) as retailers, a.* from e_subscribers a"
   ]
  },
  {
   "cell_type": "markdown",
   "metadata": {},
   "source": [
    "<h3 id=\"Create-a-split\">Create a split stored function</h3>\n",
    "<p><span style=\"font-size: 12pt;\">This stored function will be used in parsing the incoming message to process a valid command</span></p>"
   ]
  },
  {
   "cell_type": "code",
   "execution_count": null,
   "metadata": {},
   "outputs": [],
   "source": [
    "CREATE FUNCTION split(x VARCHAR(65000), delim VARCHAR(12), pos INTEGER) \n",
    "RETURNS VARCHAR(65000)\n",
    "DETERMINISTIC\n",
    "BEGIN\n",
    "  DECLARE output VARCHAR(65000);\n",
    "  SET output = REPLACE(SUBSTRING(SUBSTRING_INDEX(x, delim, pos)\n",
    "                 , LENGTH(SUBSTRING_INDEX(x, delim, pos - 1)) + 1)\n",
    "                 , delim\n",
    "                 , '');\n",
    "  IF output = '' THEN SET output = null; END IF;\n",
    "  RETURN output;\n",
    "END"
   ]
  },
  {
   "cell_type": "markdown",
   "metadata": {},
   "source": [
    "<p><span style=\"font-size: 12pt;\">Let's put it in action...</span></p>"
   ]
  },
  {
   "cell_type": "code",
   "execution_count": null,
   "metadata": {},
   "outputs": [],
   "source": [
    "select split('the quick brown fox jumps', ' ',1) "
   ]
  }
 ],
 "metadata": {
  "kernelspec": {
   "display_name": "Mysql",
   "language": "mysql",
   "name": "jupyter-mysql-kernel"
  },
  "language_info": {
   "file_extension": ".sql",
   "mimetype": "text/x-sh",
   "name": "mysql"
  }
 },
 "nbformat": 4,
 "nbformat_minor": 4
}
