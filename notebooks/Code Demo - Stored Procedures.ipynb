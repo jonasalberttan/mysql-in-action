{
 "cells": [
  {
   "cell_type": "markdown",
   "metadata": {},
   "source": [
    "<h1>STORED PROCEDURES</h1>"
   ]
  },
  {
   "cell_type": "markdown",
   "metadata": {},
   "source": [
    "<h3>Create sp_validate_incoming_msg</h3>\n",
    "<p><span style=\"font-size: 12pt;\">This stored procedure will check if the message is valid. All common checking routines are coded here.</span></p>"
   ]
  },
  {
   "cell_type": "code",
   "execution_count": null,
   "metadata": {},
   "outputs": [],
   "source": [
    "create PROCEDURE sp_validate_incoming_msg(\n",
    "\tIN \tcellno varchar(11), \n",
    "\tIN \tmsg varchar(65000),\n",
    "\tOUT is_valid tinyint)\n",
    "BEGIN\n",
    "\t\n",
    "declare cmdname varchar(20) default '';\n",
    "set cmdname = (select split(msg, ' ',1));\n",
    "\t\n",
    "if not exists(select * from e_subscribers es where es.cellno = cellno) then\n",
    "\t-- do not send a sms response.\n",
    "\tset is_valid=0;\n",
    "elseif not exists(select * from e_commands ec where ec.name = cmdname) then\n",
    " \tinsert into e_outbox (id,cellno, message) select uuid(), cellno, concat('Invalid command name ',cmdname,'.'); \n",
    " \tset is_valid=0;\n",
    "else\n",
    "\tset is_valid=1;\n",
    "end if;\n",
    "\n",
    "END;"
   ]
  },
  {
   "cell_type": "markdown",
   "metadata": {},
   "source": [
    "<h3 id=\"Create-sp_cmd_reg\">Create sp_cmd_reg</h3>\n",
    "<p><span style=\"font-size: 12pt;\">This stored procedure will process the command registration. The SMS format for this command is <span style=\"color: #236fa1;\"><strong>REG</strong></span><span style=\"color: #b96ad9;\">&lt;space&gt;</span><span style=\"color: #236fa1;\"><strong>LName/FName/M</strong>I</span><span style=\"color: #b96ad9;\">&lt;space&gt;</span><span style=\"color: #236fa1;\"><strong>CellNoToRegister</strong></span></span></p>"
   ]
  },
  {
   "cell_type": "code",
   "execution_count": null,
   "metadata": {},
   "outputs": [],
   "source": [
    "create PROCEDURE sp_cmd_reg(\n",
    "\tIN \te_inbox_id char(36),\n",
    "\tIN \tcellno varchar(11), \n",
    "\tIN \tmsg varchar(65000),\n",
    "\tOUT is_valid tinyint)\n",
    "BEGIN\n",
    "\n",
    "declare cmdname varchar(20) default '';\n",
    "declare fullname varchar(100) default '';\n",
    "declare cellno_reg varchar(11) default '';\n",
    "declare lastname varchar(100) default '';\n",
    "declare firstname varchar(100) default '';\n",
    "declare mi varchar(100) default '';\n",
    "declare upline_id char(36) default '';\n",
    "\n",
    "START TRANSACTION;\n",
    "\n",
    "set cmdname = (select split(msg, ' ',1));\n",
    "set fullname = (select split(msg, ' ',2));\n",
    "set cellno_reg = (select split(msg, ' ',3));\n",
    "set lastname = (select split(fullname, '/',1));\n",
    "set firstname = (select split(fullname, '/',2));\n",
    "set mi = (select split(fullname, '/',3));\n",
    "set upline_id = (select id from e_subscribers es where es.cellno = cellno );\n",
    "\n",
    "if exists(select es.* from e_subscribers es where es.cellno = cellno_reg) then\n",
    "\t-- send a response that the number is already registered.\n",
    "\tinsert into e_outbox (id,cellno, message) select uuid(), cellno, concat('The cellno ',cellno_reg, ' is already registed.'); \n",
    "else\n",
    "\tinsert into e_subscribers (id, upline_id, cellno, last_name, first_name, mi) select uuid(), upline_id, cellno_reg, lastname, firstname, mi;\n",
    "\tinsert into e_outbox (id, e_inbox_id, cellno , message) select uuid(), e_inbox_id, cellno, concat('You have succesfully registered ',lastname, ',',firstname,' ',mi, ' with cellno ',cellno_reg) ; \n",
    "end if;\n",
    "\n",
    "COMMIT;\n",
    "END;"
   ]
  },
  {
   "cell_type": "markdown",
   "metadata": {},
   "source": [
    "<p><span style=\"font-size: 12pt; color: #e03e2d;\">NOTE: Make sure that the trigger<strong><em> <span style=\"text-decoration: underline;\">tr_after_insert_inbox_process_cmd</span></em></strong> has been created.</span></p>"
   ]
  },
  {
   "cell_type": "markdown",
   "metadata": {},
   "source": [
    "<p><span style=\"font-size: 12pt;\">Let's put it in action... Execute an insert statement in table e_inbox so that the trigger tr_after_insert_inbox_process_cmd will execute.</span></p>"
   ]
  },
  {
   "cell_type": "code",
   "execution_count": null,
   "metadata": {},
   "outputs": [],
   "source": [
    "insert into e_inbox (id, cellno, message) select uuid(), '09222853161', 'REG SAAVEDRA/JOHN/D 09178553218'"
   ]
  },
  {
   "cell_type": "markdown",
   "metadata": {},
   "source": [
    "<p><span style=\"font-size: 12pt;\">Validate the tables affected if the process is successful.</span></p>"
   ]
  },
  {
   "cell_type": "code",
   "execution_count": null,
   "metadata": {},
   "outputs": [],
   "source": [
    "select * from e_subscribers \n",
    "select * from e_inbox"
   ]
  },
  {
   "cell_type": "markdown",
   "metadata": {},
   "source": [
    "<h3>Create sp_cmd_transfer</h3>\n",
    "<p><span style=\"font-size: 12pt;\">This stored procedure will transfer funds to the registered subscribers.</span></p>"
   ]
  },
  {
   "cell_type": "code",
   "execution_count": null,
   "metadata": {},
   "outputs": [],
   "source": [
    "create PROCEDURE sp_cmd_transfer(\n",
    "\tIN \te_inbox_id char(36),\n",
    "\tIN \tcellno varchar(11), \n",
    "\tIN \tmsg varchar(65000),\n",
    "\tOUT is_valid tinyint)\n",
    "BEGIN\n",
    "\n",
    "declare cmdname varchar(20) default '';\n",
    "declare recipient varchar(11) default '';\n",
    "declare recipient_id char(36) default '';\n",
    "declare recipient_name varchar(100) default '';\n",
    "declare amount decimal(15,2) default 0.0;\n",
    "declare subscribers_id char(36) default '';\n",
    "declare subscribers_name varchar(100) default '';\n",
    "declare e_command_id char(36) default '';\n",
    "\n",
    "\n",
    "-- START TRANSACTION;\n",
    "\n",
    "set cmdname = (select split(msg, ' ',1));\n",
    "set recipient = (select split(msg, ' ',2));\n",
    "set recipient_id = (select id from e_subscribers es where es.cellno = recipient);\n",
    "set recipient_name = (select concat(es.last_name,',',es.first_name,' ', es.mi,'.') from e_subscribers es where es.cellno = recipient);\n",
    "set amount = (select split(msg, ' ',3));\n",
    "set subscribers_id = (select id from e_subscribers es where es.cellno = cellno);\n",
    "set subscribers_name = (select concat(es.last_name,',',es.first_name,' ', es.mi,'.') from e_subscribers es where es.cellno = cellno);\n",
    "set e_command_id = (select id from e_commands ec where ec.name = cmdname);\n",
    "\n",
    "if not exists(select es.* from e_subscribers es where es.cellno = recipient) then\n",
    "\t-- send a response that the number is not a registered subscriber.\n",
    "\tinsert into e_outbox (id,cellno, message) select uuid(), cellno, concat('Unable to transfer funds to ',recipient, ', because it is not a registered subscriber.'); \n",
    "else\n",
    "\t-- process your account.\n",
    "\tinsert into e_ledger (id,e_subscribers_id,e_inbox_id,e_command_id,amount_beginning,amount_actual,document_date) \n",
    "\tselect uuid(),subscribers_id, e_inbox_id, e_command_id, sf_get_current_balance(cellno), amount*-1, now();\n",
    "\tinsert into e_outbox (id, e_inbox_id, cellno , message) select uuid(), e_inbox_id, cellno, concat('You have succesfully transfered an amount of ',amount, ' to ',recipient,' - ',recipient_name);\n",
    "\t-- process recipient's account\n",
    "\tinsert into e_ledger (id,e_subscribers_id,e_inbox_id,e_command_id,amount_beginning,amount_actual,document_date) \n",
    "\tselect uuid(),recipient_id, e_inbox_id, e_command_id, sf_get_current_balance(recipient), amount, now();\n",
    "\tinsert into e_outbox (id, e_inbox_id, cellno , message) select uuid(), subscribers_id, cellno, concat('You have received a fund transfer from ',subscribers_name, ' (',cellno,') with an amount of ',amount,'.');\n",
    "end if;\n",
    "\n",
    "-- COMMIT;\n",
    "END;"
   ]
  },
  {
   "cell_type": "markdown",
   "metadata": {},
   "source": [
    "<p><span style=\"font-size: 16px;\">Let's put it in action... Execute an insert statement in table e_inbox so that the trigger tr_after_insert_inbox_process_cmd will execute.</span></p>"
   ]
  },
  {
   "cell_type": "code",
   "execution_count": null,
   "metadata": {},
   "outputs": [],
   "source": [
    "insert into e_inbox (id, cellno, message) select uuid(), '09222853161', 'TRANSFER 09201632077 5000'"
   ]
  },
  {
   "cell_type": "markdown",
   "metadata": {},
   "source": [
    "<p><span style=\"font-size: 16px;\">Validate the tables affected if the process is successful.</span></p>"
   ]
  },
  {
   "cell_type": "code",
   "execution_count": null,
   "metadata": {},
   "outputs": [],
   "source": [
    "select * from e_inbox\n",
    "select * from e_outbox eo \n",
    "select * from e_ledger el "
   ]
  }
 ],
 "metadata": {
  "kernelspec": {
   "display_name": "Mysql",
   "language": "mysql",
   "name": "jupyter-mysql-kernel"
  },
  "language_info": {
   "file_extension": ".sql",
   "mimetype": "text/x-sh",
   "name": "mysql"
  }
 },
 "nbformat": 4,
 "nbformat_minor": 4
}
